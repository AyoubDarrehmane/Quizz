{
 "cells": [
  {
   "cell_type": "markdown",
   "metadata": {},
   "source": [
    "# Quizz Classique"
   ]
  },
  {
   "cell_type": "code",
   "execution_count": 1,
   "metadata": {},
   "outputs": [
    {
     "name": "stdin",
     "output_type": "stream",
     "text": [
      "question 1 : Selon la légende, quel savant grec s’est écrié « Eureka » en prenant son bain ? ? d\n"
     ]
    },
    {
     "name": "stdout",
     "output_type": "stream",
     "text": [
      "votre réponse : d\n",
      "Mauvaise reponse !! Veuillez reessayer\n",
      "\n",
      "\n",
      "vous avez répondu correctement à 0 questions\n"
     ]
    },
    {
     "name": "stdin",
     "output_type": "stream",
     "text": [
      "question 1 : Selon la légende, quel savant grec s’est écrié « Eureka » en prenant son bain ? ? de\n"
     ]
    },
    {
     "name": "stdout",
     "output_type": "stream",
     "text": [
      "votre réponse : de\n",
      "Mauvaise reponse !! Veuillez reessayer\n",
      "\n",
      "\n",
      "vous avez répondu correctement à 0 questions\n"
     ]
    },
    {
     "name": "stdin",
     "output_type": "stream",
     "text": [
      "question 1 : Selon la légende, quel savant grec s’est écrié « Eureka » en prenant son bain ? ? de\n"
     ]
    },
    {
     "name": "stdout",
     "output_type": "stream",
     "text": [
      "votre réponse : de\n",
      "Mauvaise reponse !! Veuillez reessayer\n",
      "\n",
      "\n",
      "vous avez répondu correctement à 0 questions\n"
     ]
    },
    {
     "name": "stdin",
     "output_type": "stream",
     "text": [
      "question 1 : Selon la légende, quel savant grec s’est écrié « Eureka » en prenant son bain ? ? d\n"
     ]
    },
    {
     "name": "stdout",
     "output_type": "stream",
     "text": [
      "votre réponse : d\n",
      "Mauvaise reponse !! Veuillez reessayer\n",
      "\n",
      "\n",
      "trop de mauvaises réponses !!\n"
     ]
    }
   ],
   "source": [
    "# QUIZZ VERSION 2\n",
    "\n",
    "quizz={\n",
    "\"Selon la légende, quel savant grec s’est écrié « Eureka » en prenant son bain ?\":\"Archimède\",\n",
    "\"Quel peintre est le principal représentant du cubisme ?\":\"Picasso\",\n",
    "\"Qui interprète la chanson du film Skyfall ?\":\"Adele\"            \n",
    "}\n",
    "\n",
    "def quizzup(quizz,limit) :\n",
    "    rep_correct=0 # compteur de bonne reponse\n",
    "    bad_answer=0 # compteur de mauvaise reponse\n",
    "    questions=list(quizz.keys()) # liste des questions créee pour utiliser questions[index]\n",
    "    while(rep_correct<len(quizz)) : \n",
    "        reponse=input(\"question {} : {} ?\".format(rep_correct+1,questions[rep_correct]))\n",
    "        print(\"votre réponse : {}\".format(reponse))\n",
    "        if reponse.lower()==quizz[questions[rep_correct]].lower() :\n",
    "            print(\"Bravo c'est la bonne réponse !\")\n",
    "            rep_correct+=1\n",
    "        else :\n",
    "            print(\"Mauvaise reponse !! Veuillez reessayer\")\n",
    "            bad_answer+=1\n",
    "        print(\"\\n\")\n",
    "        if(bad_answer==limit):\n",
    "            print(\"trop de mauvaises réponses !!\")\n",
    "            break   \n",
    "        print(\"vous avez répondu correctement à {} questions\".format(rep_correct))\n",
    "    \n",
    "quizzup(quizz,4)"
   ]
  },
  {
   "cell_type": "markdown",
   "metadata": {},
   "source": [
    "# Quizz avec countdown"
   ]
  },
  {
   "cell_type": "code",
   "execution_count": 72,
   "metadata": {},
   "outputs": [
    {
     "name": "stdin",
     "output_type": "stream",
     "text": [
      "question 1 : Selon la légende, quel savant grec s’est écrié « Eureka » en prenant son bain ? ? de\n"
     ]
    },
    {
     "name": "stdout",
     "output_type": "stream",
     "text": [
      "votre réponse : de\n",
      "Mauvaise reponse !! Veuillez reessayer\n",
      "\n",
      "\n",
      "vous avez répondu correctement à 0 questions\n"
     ]
    },
    {
     "name": "stdin",
     "output_type": "stream",
     "text": [
      "question 1 : Selon la légende, quel savant grec s’est écrié « Eureka » en prenant son bain ? ? Archimède\n"
     ]
    },
    {
     "name": "stdout",
     "output_type": "stream",
     "text": [
      "votre réponse : Archimède\n",
      "Bravo c'est la bonne réponse !\n",
      "\n",
      "\n",
      "vous avez répondu correctement à 1 questions\n"
     ]
    },
    {
     "name": "stdin",
     "output_type": "stream",
     "text": [
      "question 2 : Quel peintre est le principal représentant du cubisme ? ? Picasso\n"
     ]
    },
    {
     "name": "stdout",
     "output_type": "stream",
     "text": [
      "votre réponse : Picasso\n",
      "Bravo c'est la bonne réponse !\n",
      "\n",
      "\n",
      "vous avez répondu correctement à 2 questions\n"
     ]
    },
    {
     "name": "stdin",
     "output_type": "stream",
     "text": [
      "question 3 : Qui interprète la chanson du film Skyfall ? ? Adele\n"
     ]
    },
    {
     "name": "stdout",
     "output_type": "stream",
     "text": [
      "votre réponse : Adele\n",
      "Bravo c'est la bonne réponse !\n",
      "\n",
      "\n",
      "vous avez répondu correctement à 3 questions\n"
     ]
    }
   ],
   "source": [
    "# QUIZZ VERSION 2\n",
    "\n",
    "quizz={\n",
    "\"Selon la légende, quel savant grec s’est écrié « Eureka » en prenant son bain ?\":\"Archimède\",\n",
    "\"Quel peintre est le principal représentant du cubisme ?\":\"Picasso\",\n",
    "\"Qui interprète la chanson du film Skyfall ?\":\"Adele\"            \n",
    "}\n",
    "\n",
    "def quizzup(quizz,limit) :\n",
    "    rep_correct=0 # compteur de bonne reponse\n",
    "    bad_answer=0 # compteur de mauvaise reponse\n",
    "    questions=list(quizz.keys()) # liste des questions créee pour utiliser questions[index]\n",
    "    while(rep_correct<len(quizz)) : \n",
    "        reponse=input(\"question {} : {} ?\".format(rep_correct+1,questions[rep_correct]))\n",
    "        print(\"votre réponse : {}\".format(reponse))\n",
    "        if reponse.lower()==quizz[questions[rep_correct]].lower() :\n",
    "            print(\"Bravo c'est la bonne réponse !\")\n",
    "            rep_correct+=1\n",
    "        else :\n",
    "            print(\"Mauvaise reponse !! Veuillez reessayer\")\n",
    "            bad_answer+=1\n",
    "        print(\"\\n\")\n",
    "        if(bad_answer==limit):\n",
    "            print(\"trop de mauvaises réponses !!\")\n",
    "            break   \n",
    "        print(\"vous avez répondu correctement à {} questions\".format(rep_correct))\n",
    "    \n",
    "quizzup(quizz,4)"
   ]
  }
 ],
 "metadata": {
  "kernelspec": {
   "display_name": "Python 3",
   "language": "python",
   "name": "python3"
  },
  "language_info": {
   "codemirror_mode": {
    "name": "ipython",
    "version": 3
   },
   "file_extension": ".py",
   "mimetype": "text/x-python",
   "name": "python",
   "nbconvert_exporter": "python",
   "pygments_lexer": "ipython3",
   "version": "3.8.6"
  }
 },
 "nbformat": 4,
 "nbformat_minor": 4
}
